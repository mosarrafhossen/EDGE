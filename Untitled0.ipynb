{
  "nbformat": 4,
  "nbformat_minor": 0,
  "metadata": {
    "colab": {
      "provenance": [],
      "authorship_tag": "ABX9TyO/EYbB5W/WW1rNJtgvDoGQ",
      "include_colab_link": true
    },
    "kernelspec": {
      "name": "python3",
      "display_name": "Python 3"
    },
    "language_info": {
      "name": "python"
    }
  },
  "cells": [
    {
      "cell_type": "markdown",
      "metadata": {
        "id": "view-in-github",
        "colab_type": "text"
      },
      "source": [
        "<a href=\"https://colab.research.google.com/github/mosarrafhossen/EDGE/blob/main/Untitled0.ipynb\" target=\"_parent\"><img src=\"https://colab.research.google.com/assets/colab-badge.svg\" alt=\"Open In Colab\"/></a>"
      ]
    },
    {
      "cell_type": "code",
      "execution_count": 1,
      "metadata": {
        "colab": {
          "base_uri": "https://localhost:8080/"
        },
        "id": "y8mAWU9du61-",
        "outputId": "ac2ab927-7343-46ac-9d57-ef9942f5c5a7"
      },
      "outputs": [
        {
          "output_type": "stream",
          "name": "stdout",
          "text": [
            "Banana Banana Banana Banana Banana \n"
          ]
        }
      ],
      "source": [
        "class Fruits:\n",
        "    def __init__(self, name):\n",
        "        self.name = name\n",
        "\n",
        "    def __mul__(self, other):\n",
        "        return self.name * other\n",
        "\n",
        "\n",
        "banana: Fruits = Fruits(\"Banana \")\n",
        "print(banana * 5)"
      ]
    }
  ]
}