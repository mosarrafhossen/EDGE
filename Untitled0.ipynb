{
  "nbformat": 4,
  "nbformat_minor": 0,
  "metadata": {
    "colab": {
      "provenance": [],
      "authorship_tag": "ABX9TyPNpUMNtepPxEWsD0NxaOeY",
      "include_colab_link": true
    },
    "kernelspec": {
      "name": "python3",
      "display_name": "Python 3"
    },
    "language_info": {
      "name": "python"
    }
  },
  "cells": [
    {
      "cell_type": "markdown",
      "metadata": {
        "id": "view-in-github",
        "colab_type": "text"
      },
      "source": [
        "<a href=\"https://colab.research.google.com/github/mosarrafhossen/EDGE/blob/main/Untitled0.ipynb\" target=\"_parent\"><img src=\"https://colab.research.google.com/assets/colab-badge.svg\" alt=\"Open In Colab\"/></a>"
      ]
    },
    {
      "cell_type": "code",
      "execution_count": null,
      "metadata": {
        "colab": {
          "base_uri": "https://localhost:8080/"
        },
        "id": "y8mAWU9du61-",
        "outputId": "ac2ab927-7343-46ac-9d57-ef9942f5c5a7"
      },
      "outputs": [
        {
          "output_type": "stream",
          "name": "stdout",
          "text": [
            "Banana Banana Banana Banana Banana \n"
          ]
        }
      ],
      "source": [
        "class Fruits:\n",
        "    def __init__(self, name):\n",
        "        self.name = name\n",
        "\n",
        "    def __mul__(self, other):\n",
        "        return self.name * other\n",
        "\n",
        "\n",
        "banana: Fruits = Fruits(\"Banana \")\n",
        "print(banana * 5)"
      ]
    },
    {
      "cell_type": "code",
      "source": [
        "class Employee:\n",
        "  def __init__(self, name, salary):\n",
        "    self.name = name\n",
        "    self.salary = salary\n",
        "\n",
        "  def display_details(self):\n",
        "    return f\"Name: {self.name}, Salary: {self.salary} \"\n",
        "\n",
        "class Manager(Employee):\n",
        "  def __init__(self, name, salary, team_size):\n",
        "    super().__init__(name, salary)\n",
        "    self.team_size = team_size\n",
        "\n",
        "  def display_details(self):\n",
        "    return f'{super().display_details()}, Team Size: {self.team_size}'\n",
        "\n",
        "class Developer(Employee):\n",
        "  def __init__(self, name, salary, programming_language):\n",
        "    super().__init__(name, salary)\n",
        "    self.programming_language = programming_language\n",
        "\n",
        "  def display_details(self):\n",
        "    return f'{super().display_details()}, Language: {self.programming_language}'\n",
        "\n",
        "\n",
        "# Usage\n",
        "manager = Manager(\"Jafar\", 80000, 10)\n",
        "developer = Developer(\"Iqbal\", 60000, \"Python\")\n",
        "print(manager.display_details())\n",
        "print(developer.display_details())"
      ],
      "metadata": {
        "colab": {
          "base_uri": "https://localhost:8080/"
        },
        "id": "h7LZ0_Jgv7v6",
        "outputId": "9da00a50-c8f5-4b81-f7f5-4d2dec090700"
      },
      "execution_count": 2,
      "outputs": [
        {
          "output_type": "stream",
          "name": "stdout",
          "text": [
            "Name: Jafar, Salary: 80000 , Team Size: 10\n",
            "Name: Iqbal, Salary: 60000 , Language: Python\n"
          ]
        }
      ]
    },
    {
      "cell_type": "code",
      "source": [
        "class Student:\n",
        "   def __init__(self, physics, chemistry, biology):\n",
        "            self.phy = physics\n",
        "            self.chem = chemistry\n",
        "            self.bio = biology\n",
        "            #self.percentage = str((self.phy + self.chem + self.bio) / 3 ) + \"%\"\n",
        "   @property\n",
        "   def calcPercentage(self):\n",
        "      return str((self.phy + self.chem + self.bio) / 3) + \"%\"\n",
        "stu1 = Student(98,88,78)\n",
        "print(stu1.calcPercentage)\n",
        "stu1.phy = 66\n",
        "print(stu1.phy)\n",
        "print(stu1.calcPercentage)"
      ],
      "metadata": {
        "colab": {
          "base_uri": "https://localhost:8080/"
        },
        "id": "YHWMtA1Fwsr4",
        "outputId": "c5dd41d7-0918-4536-971a-3e2b4b00a9fe"
      },
      "execution_count": 3,
      "outputs": [
        {
          "output_type": "stream",
          "name": "stdout",
          "text": [
            "88.0%\n",
            "66\n",
            "77.33333333333333%\n"
          ]
        }
      ]
    }
  ]
}